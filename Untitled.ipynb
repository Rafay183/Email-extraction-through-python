{
 "cells": [
  {
   "cell_type": "code",
   "execution_count": 2,
   "id": "325d9f3b",
   "metadata": {},
   "outputs": [
    {
     "name": "stdout",
     "output_type": "stream",
     "text": [
      "DataFrame has been successfully saved to email.xlsx\n"
     ]
    }
   ],
   "source": [
    "import pandas as pd\n",
    "import re\n",
    "\n",
    "# Function to extract emails from a string\n",
    "def extract_emails(text):\n",
    "    emails = re.findall(r'\\b[A-Za-z0-9._%+-]+@[A-Za-z0-9.-]+\\.[A-Z|a-z]{2,}\\b', text)\n",
    "    return emails\n",
    "\n",
    "# Function to read the text file, extract emails, and create a DataFrame\n",
    "def process_text_file(file_path):\n",
    "    with open(file_path, 'r') as file:\n",
    "        data = file.read()\n",
    "\n",
    "    # Extract emails using the defined function\n",
    "    emails = extract_emails(data)\n",
    "\n",
    "    # Create a DataFrame\n",
    "    df = pd.DataFrame({'Emails': emails})\n",
    "\n",
    "    return df\n",
    "\n",
    "# Function to save the DataFrame to an Excel file\n",
    "def save_to_excel(df, excel_file_path):\n",
    "    df.to_excel(excel_file_path, index=False)\n",
    "    print(f\"DataFrame has been successfully saved to {excel_file_path}\")\n",
    "\n",
    "# Example usage\n",
    "file_path = 'data.txt'\n",
    "excel_file_path = 'email.xlsx'\n",
    "\n",
    "# Process the text file and create a DataFrame\n",
    "email_df = process_text_file(file_path)\n",
    "\n",
    "# Save the DataFrame to an Excel file\n",
    "save_to_excel(email_df, excel_file_path)\n"
   ]
  },
  {
   "cell_type": "code",
   "execution_count": null,
   "id": "0f627136",
   "metadata": {},
   "outputs": [],
   "source": []
  }
 ],
 "metadata": {
  "kernelspec": {
   "display_name": "Python 3 (ipykernel)",
   "language": "python",
   "name": "python3"
  },
  "language_info": {
   "codemirror_mode": {
    "name": "ipython",
    "version": 3
   },
   "file_extension": ".py",
   "mimetype": "text/x-python",
   "name": "python",
   "nbconvert_exporter": "python",
   "pygments_lexer": "ipython3",
   "version": "3.11.3"
  }
 },
 "nbformat": 4,
 "nbformat_minor": 5
}
